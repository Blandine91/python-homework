{
 "cells": [
  {
   "cell_type": "code",
   "execution_count": 1,
   "id": "d37cc830",
   "metadata": {},
   "outputs": [],
   "source": [
    "# Import the pathlib and csv library\n",
    "from pathlib import Path\n",
    "import csv"
   ]
  },
  {
   "cell_type": "code",
   "execution_count": 2,
   "id": "ddf2fa6c-7dba-4762-9530-43e328ddb340",
   "metadata": {},
   "outputs": [],
   "source": [
    "# Set the file path\n",
    "csvpath = Path(\"budget_data.csv\")\n",
    "csvoutputpath = Path(\"Financial_analysis.txt\")"
   ]
  },
  {
   "cell_type": "code",
   "execution_count": 3,
   "id": "10619064-d6cd-45be-9c76-090d24e59f49",
   "metadata": {
    "tags": []
   },
   "outputs": [
    {
     "name": "stdout",
     "output_type": "stream",
     "text": [
      "['Date', 'Profit/Losses']\n"
     ]
    }
   ],
   "source": [
    "# Initialize the metric variables\n",
    "total_months = 0\n",
    "total = 0\n",
    "average_change = 0\n",
    "greatest_increase = [\"\",0]\n",
    "greatest_decrease = [\"\",0]\n",
    "change_list = []\n",
    "\n",
    "# Open the csv file as an object\n",
    "with open(csvpath, \"r\") as csvfile:\n",
    "    # Pass in the csv file to the csv.reader() function\n",
    "    # (with ',' as the delmiter/separator) and return the csvreader object\n",
    "    csvreader = csv.reader(csvfile, delimiter=\",\")\n",
    "    \n",
    "    # Read the header row first (skip this step if there is no header)\n",
    "    csv_header = next(csvreader)\n",
    "    first_row = next(csvreader)\n",
    "    old_change = int(first_row[1])\n",
    "    total_months +=1\n",
    "    total += old_change \n",
    "\n",
    "    # Print the header\n",
    "    print(csv_header)\n",
    "    \n",
    "    # Read each row of data after the header\n",
    "    for row in csvreader:\n",
    "        total_months +=1\n",
    "        total = total+int(row[1])\n",
    "        \n",
    "        net_change = int(row[1])-old_change\n",
    "        old_change = int(row[1])\n",
    "        change_list = change_list +[net_change]\n",
    "        \n",
    "        # The greatest increase or decrease in profits (date and amount) over the entire period.        \n",
    "        if net_change > greatest_increase[1]:\n",
    "        \n",
    "            greatest_increase[0] = row[0]\n",
    "            greatest_increase[1] = net_change\n",
    "        \n",
    "        if net_change < greatest_decrease[1]:\n",
    "        \n",
    "            greatest_decrease[0] = row[0]\n",
    "            greatest_decrease[1] = net_change"
   ]
  },
  {
   "cell_type": "code",
   "execution_count": 4,
   "id": "5efc4853-1471-45a4-b1a0-9558e417edbf",
   "metadata": {},
   "outputs": [],
   "source": [
    "average_change = round(sum(change_list)/len(change_list),2)"
   ]
  },
  {
   "cell_type": "code",
   "execution_count": 5,
   "id": "7ed23465-2f19-4023-861d-a986e3e063ae",
   "metadata": {},
   "outputs": [],
   "source": [
    " # Export the results to text file\n",
    "with open(csvoutputpath, \"w\") as txt_file:\n",
    "    txt_file.write(f\"Financial Analysis\\n\")\n",
    "    txt_file.write(f\"----------------------------\\n\")\n",
    "    txt_file.write(f\"Total Months: {total_months}\\n\")\n",
    "    txt_file.write(f\"Total: ${total}\\n\")\n",
    "    txt_file.write(f\"Average  Change: ${average_change}\\n\")\n",
    "    txt_file.write(f\"Greatest Increase in Profits: {greatest_increase[0]} (${greatest_increase[1]})\\n\")\n",
    "    txt_file.write(f\"Greatest Decrease in Profits: {greatest_decrease[0]} (${greatest_decrease[1]})\\n\")"
   ]
  },
  {
   "cell_type": "code",
   "execution_count": null,
   "id": "d1151d91-d825-4843-bb11-5eca2231f3c0",
   "metadata": {},
   "outputs": [],
   "source": []
  }
 ],
 "metadata": {
  "kernelspec": {
   "display_name": "Python 3 (ipykernel)",
   "language": "python",
   "name": "python3"
  },
  "language_info": {
   "codemirror_mode": {
    "name": "ipython",
    "version": 3
   },
   "file_extension": ".py",
   "mimetype": "text/x-python",
   "name": "python",
   "nbconvert_exporter": "python",
   "pygments_lexer": "ipython3",
   "version": "3.9.12"
  }
 },
 "nbformat": 4,
 "nbformat_minor": 5
}
